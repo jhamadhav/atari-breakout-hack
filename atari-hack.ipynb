{
 "cells": [
  {
   "cell_type": "code",
   "execution_count": 55,
   "metadata": {},
   "outputs": [
    {
     "name": "stderr",
     "output_type": "stream",
     "text": [
      "ERROR: Could not find a version that satisfies the requirement cv2\n",
      "ERROR: No matching distribution found for cv2\n",
      "WARNING: You are using pip version 21.0.1; however, version 21.3.1 is available.\n",
      "You should consider upgrading via the 'c:\\users\\madhav\\appdata\\local\\programs\\python\\python38-32\\python.exe -m pip install --upgrade pip' command.\n"
     ]
    },
    {
     "name": "stdout",
     "output_type": "stream",
     "text": [
      "Requirement already satisfied: matplotlib in c:\\users\\madhav\\appdata\\local\\programs\\python\\python38-32\\lib\\site-packages (3.5.1)\n",
      "Requirement already satisfied: fonttools>=4.22.0 in c:\\users\\madhav\\appdata\\local\\programs\\python\\python38-32\\lib\\site-packages (from matplotlib) (4.28.5)\n",
      "Requirement already satisfied: packaging>=20.0 in c:\\users\\madhav\\appdata\\local\\programs\\python\\python38-32\\lib\\site-packages (from matplotlib) (21.3)\n",
      "Requirement already satisfied: cycler>=0.10 in c:\\users\\madhav\\appdata\\local\\programs\\python\\python38-32\\lib\\site-packages (from matplotlib) (0.11.0)\n",
      "Requirement already satisfied: pyparsing>=2.2.1 in c:\\users\\madhav\\appdata\\local\\programs\\python\\python38-32\\lib\\site-packages (from matplotlib) (3.0.6)\n",
      "Requirement already satisfied: numpy>=1.17 in c:\\users\\madhav\\appdata\\local\\programs\\python\\python38-32\\lib\\site-packages (from matplotlib) (1.19.4)\n",
      "Requirement already satisfied: python-dateutil>=2.7 in c:\\users\\madhav\\appdata\\local\\programs\\python\\python38-32\\lib\\site-packages (from matplotlib) (2.8.2)\n",
      "Requirement already satisfied: kiwisolver>=1.0.1 in c:\\users\\madhav\\appdata\\local\\programs\\python\\python38-32\\lib\\site-packages (from matplotlib) (1.3.2)\n",
      "Requirement already satisfied: pillow>=6.2.0 in c:\\users\\madhav\\appdata\\local\\programs\\python\\python38-32\\lib\\site-packages (from matplotlib) (8.0.1)\n",
      "Requirement already satisfied: six>=1.5 in c:\\users\\madhav\\appdata\\local\\programs\\python\\python38-32\\lib\\site-packages (from python-dateutil>=2.7->matplotlib) (1.16.0)\n"
     ]
    },
    {
     "name": "stderr",
     "output_type": "stream",
     "text": [
      "WARNING: You are using pip version 21.0.1; however, version 21.3.1 is available.\n",
      "You should consider upgrading via the 'c:\\users\\madhav\\appdata\\local\\programs\\python\\python38-32\\python.exe -m pip install --upgrade pip' command.\n"
     ]
    },
    {
     "name": "stdout",
     "output_type": "stream",
     "text": [
      "Requirement already satisfied: numpy in c:\\users\\madhav\\appdata\\local\\programs\\python\\python38-32\\lib\\site-packages (1.19.4)\n"
     ]
    },
    {
     "name": "stderr",
     "output_type": "stream",
     "text": [
      "WARNING: You are using pip version 21.0.1; however, version 21.3.1 is available.\n",
      "You should consider upgrading via the 'c:\\users\\madhav\\appdata\\local\\programs\\python\\python38-32\\python.exe -m pip install --upgrade pip' command.\n",
      "ERROR: unknown command \"PIL\"\n",
      "\n"
     ]
    }
   ],
   "source": [
    "!pip install cv2\n",
    "!pip install matplotlib\n",
    "!pip install numpy\n",
    "!pip PIL"
   ]
  },
  {
   "cell_type": "code",
   "execution_count": 56,
   "metadata": {},
   "outputs": [],
   "source": [
    "import cv2\n",
    "import numpy as np\n",
    "import matplotlib.pyplot as plt\n",
    "import keyboard\n",
    "import pyautogui as pag\n",
    "from IPython.display import clear_output\n",
    "from PIL import ImageGrab as IG\n",
    "from PIL import Image"
   ]
  },
  {
   "cell_type": "code",
   "execution_count": 57,
   "metadata": {},
   "outputs": [],
   "source": [
    "def showImg(img=None,fx=5,fy=5):\n",
    "    plt.figure(figsize=(fx, fy))\n",
    "    plt.subplot(1,1,1)\n",
    "    plt.imshow(img)"
   ]
  },
  {
   "cell_type": "code",
   "execution_count": 58,
   "metadata": {},
   "outputs": [],
   "source": [
    "def readImg(path=None):\n",
    "    src = cv2.imread(path,0)\n",
    "    src = cv2.cvtColor(src,cv2.COLOR_BGR2RGB)\n",
    "    return src"
   ]
  },
  {
   "cell_type": "code",
   "execution_count": 59,
   "metadata": {},
   "outputs": [],
   "source": [
    "def grab_screen(bbox=None):\n",
    "    screenshort = IG.grab(bbox)\n",
    "    screenshort = np.array(screenshort)\n",
    "    return screenshort"
   ]
  },
  {
   "cell_type": "code",
   "execution_count": 60,
   "metadata": {},
   "outputs": [],
   "source": [
    "def grab_screen_img(bbox=None):\n",
    "    screenshort = IG.grab(bbox)\n",
    "    return screenshort"
   ]
  },
  {
   "cell_type": "code",
   "execution_count": 61,
   "metadata": {},
   "outputs": [],
   "source": [
    "temp_img = readImg('ball.jpg')\n",
    "w,h=temp_img.shape[1],temp_img.shape[0]\n",
    "ly = 520\n",
    "method = 'cv2.TM_SQDIFF_NORMED'\n",
    "boxSize = (18,450,1120,1000)"
   ]
  },
  {
   "cell_type": "code",
   "execution_count": 64,
   "metadata": {},
   "outputs": [],
   "source": [
    "preY,newY = 0,0\n",
    "preX,newX = 0,0\n",
    "while True:\n",
    "    src_img1 = grab_screen_img(boxSize)\n",
    "    src_img = np.array(src_img1)\n",
    "\n",
    "    res = cv2.matchTemplate(src_img,temp_img,eval(method))\n",
    "    min_val, max_val, min_loc, max_loc = cv2.minMaxLoc(res)\n",
    "\n",
    "    main_panel = src_img\n",
    "    bottom_right = (min_loc[0] + w, min_loc[1] + h)\n",
    "\n",
    "    # rectangle\n",
    "    temp = cv2.rectangle(main_panel, min_loc,bottom_right, (255,0,0), 2)\n",
    "\n",
    "    x,y = min_loc[0] + 15, min_loc[1] + 15\n",
    "    newX,newY = x,y\n",
    "\n",
    "    # circle\n",
    "    cv2.circle(temp,(x,y),4,255,4)\n",
    "    cv2.imshow(\"screen\",temp)\n",
    "\n",
    "    rgb_im = src_img1.convert('RGB')\n",
    "    px_val = rgb_im.getpixel((x,y))\n",
    "    # print(px_val)\n",
    "\n",
    "    dy = abs(newY - preY)\n",
    "    dx = newX - preX\n",
    "\n",
    "    if(px_val == (153,153,153)):\n",
    "        mx = min_loc[0]\n",
    "        dy = 45 if (dy>=45) else dy\n",
    "        dy += 30 if(abs(dx)<6) else abs(dx)\n",
    "        if(dx>0):\n",
    "            mx += dy\n",
    "        else:\n",
    "            mx -= dy\n",
    "        mx = 2 if(mx<=0) else mx\n",
    "        pag.moveTo(mx,ly)\n",
    "        preY = newY\n",
    "        preX = newX\n",
    "\n",
    "    # breaks\n",
    "    if cv2.waitKey(1) == ord('0') or keyboard.is_pressed('q'):\n",
    "        cv2.destroyAllWindows()\n",
    "        break"
   ]
  },
  {
   "cell_type": "code",
   "execution_count": null,
   "metadata": {},
   "outputs": [],
   "source": []
  }
 ],
 "metadata": {
  "interpreter": {
   "hash": "e9e87483575e8a392cd4b42ff23ae0075243cffe29599c6816abbb3dcba6d4ca"
  },
  "kernelspec": {
   "display_name": "Python 3.8.2 32-bit",
   "language": "python",
   "name": "python3"
  },
  "language_info": {
   "codemirror_mode": {
    "name": "ipython",
    "version": 3
   },
   "file_extension": ".py",
   "mimetype": "text/x-python",
   "name": "python",
   "nbconvert_exporter": "python",
   "pygments_lexer": "ipython3",
   "version": "3.8.2"
  },
  "orig_nbformat": 4
 },
 "nbformat": 4,
 "nbformat_minor": 2
}
